{
 "cells": [
  {
   "cell_type": "markdown",
   "id": "aa40a029",
   "metadata": {},
   "source": [
    "### Sparse Matrix"
   ]
  },
  {
   "cell_type": "code",
   "execution_count": 1,
   "id": "1ffa7673",
   "metadata": {},
   "outputs": [],
   "source": [
    "import numpy as np\n",
    "from scipy.sparse import csr_matrix"
   ]
  },
  {
   "cell_type": "code",
   "execution_count": 4,
   "id": "56e816c0",
   "metadata": {},
   "outputs": [
    {
     "data": {
      "text/plain": [
       "array([[0, 0, 3, 2, 0, 0, 0],\n",
       "       [0, 4, 0, 0, 5, 0, 0],\n",
       "       [0, 0, 0, 0, 0, 0, 0]])"
      ]
     },
     "execution_count": 4,
     "metadata": {},
     "output_type": "execute_result"
    }
   ],
   "source": [
    "a = np.array([\n",
    "    [0, 0, 3, 2, 0, 0, 0],\n",
    "    [0, 4, 0, 0, 5, 0, 0],\n",
    "    [0, 0, 0, 0, 0, 0, 0],\n",
    "])\n",
    "\n",
    "a"
   ]
  },
  {
   "cell_type": "code",
   "execution_count": 5,
   "id": "89c5d4a0",
   "metadata": {},
   "outputs": [
    {
     "data": {
      "text/plain": [
       "<3x7 sparse matrix of type '<class 'numpy.int64'>'\n",
       "\twith 4 stored elements in Compressed Sparse Row format>"
      ]
     },
     "execution_count": 5,
     "metadata": {},
     "output_type": "execute_result"
    }
   ],
   "source": [
    "m = csr_matrix(a)\n",
    "m"
   ]
  },
  {
   "cell_type": "code",
   "execution_count": 7,
   "id": "ad62e3e2",
   "metadata": {},
   "outputs": [
    {
     "data": {
      "text/plain": [
       "(array([2, 3], dtype=int32), array([3, 2]))"
      ]
     },
     "execution_count": 7,
     "metadata": {},
     "output_type": "execute_result"
    }
   ],
   "source": [
    "m.getrow(0).indices, m.getrow(0).data"
   ]
  },
  {
   "cell_type": "code",
   "execution_count": 8,
   "id": "0d59b346",
   "metadata": {
    "scrolled": true
   },
   "outputs": [
    {
     "data": {
      "text/plain": [
       "(array([1, 4], dtype=int32), array([4, 5]))"
      ]
     },
     "execution_count": 8,
     "metadata": {},
     "output_type": "execute_result"
    }
   ],
   "source": [
    "m.getrow(1).indices, m.getrow(1).data"
   ]
  },
  {
   "cell_type": "code",
   "execution_count": null,
   "id": "848bf5d4",
   "metadata": {},
   "outputs": [],
   "source": []
  },
  {
   "cell_type": "markdown",
   "id": "8bbc11cc",
   "metadata": {},
   "source": [
    "### Datetime and Timedelta"
   ]
  },
  {
   "cell_type": "code",
   "execution_count": 16,
   "id": "00844c31",
   "metadata": {},
   "outputs": [],
   "source": [
    "from datetime import datetime, timedelta"
   ]
  },
  {
   "cell_type": "code",
   "execution_count": 19,
   "id": "8bd308b8",
   "metadata": {},
   "outputs": [
    {
     "data": {
      "text/plain": [
       "datetime.datetime(2021, 5, 28, 14, 17)"
      ]
     },
     "execution_count": 19,
     "metadata": {},
     "output_type": "execute_result"
    }
   ],
   "source": [
    "datetime(year=2021, month=5, day=28, hour=14, minute=12) + timedelta(minutes=5)"
   ]
  },
  {
   "cell_type": "code",
   "execution_count": 20,
   "id": "984aa296",
   "metadata": {},
   "outputs": [
    {
     "data": {
      "text/plain": [
       "datetime.datetime(2021, 5, 28, 14, 7)"
      ]
     },
     "execution_count": 20,
     "metadata": {},
     "output_type": "execute_result"
    }
   ],
   "source": [
    "datetime(year=2021, month=5, day=28, hour=14, minute=12) - timedelta(minutes=5)"
   ]
  },
  {
   "cell_type": "code",
   "execution_count": null,
   "id": "63f31e22",
   "metadata": {},
   "outputs": [],
   "source": []
  },
  {
   "cell_type": "markdown",
   "id": "136da57d",
   "metadata": {},
   "source": [
    "### Pandas Iterows"
   ]
  },
  {
   "cell_type": "code",
   "execution_count": 21,
   "id": "2deae0da",
   "metadata": {},
   "outputs": [],
   "source": [
    "import pandas as pd"
   ]
  },
  {
   "cell_type": "code",
   "execution_count": 30,
   "id": "9b1abad4",
   "metadata": {},
   "outputs": [
    {
     "data": {
      "text/html": [
       "<div>\n",
       "<style scoped>\n",
       "    .dataframe tbody tr th:only-of-type {\n",
       "        vertical-align: middle;\n",
       "    }\n",
       "\n",
       "    .dataframe tbody tr th {\n",
       "        vertical-align: top;\n",
       "    }\n",
       "\n",
       "    .dataframe thead th {\n",
       "        text-align: right;\n",
       "    }\n",
       "</style>\n",
       "<table border=\"1\" class=\"dataframe\">\n",
       "  <thead>\n",
       "    <tr style=\"text-align: right;\">\n",
       "      <th></th>\n",
       "      <th>0</th>\n",
       "      <th>1</th>\n",
       "      <th>2</th>\n",
       "      <th>a</th>\n",
       "      <th>4</th>\n",
       "      <th>5</th>\n",
       "      <th>6</th>\n",
       "    </tr>\n",
       "  </thead>\n",
       "  <tbody>\n",
       "    <tr>\n",
       "      <th>0</th>\n",
       "      <td>0</td>\n",
       "      <td>0</td>\n",
       "      <td>3</td>\n",
       "      <td>2</td>\n",
       "      <td>0</td>\n",
       "      <td>0</td>\n",
       "      <td>0</td>\n",
       "    </tr>\n",
       "    <tr>\n",
       "      <th>1</th>\n",
       "      <td>0</td>\n",
       "      <td>4</td>\n",
       "      <td>0</td>\n",
       "      <td>0</td>\n",
       "      <td>5</td>\n",
       "      <td>0</td>\n",
       "      <td>0</td>\n",
       "    </tr>\n",
       "    <tr>\n",
       "      <th>2</th>\n",
       "      <td>0</td>\n",
       "      <td>0</td>\n",
       "      <td>0</td>\n",
       "      <td>0</td>\n",
       "      <td>0</td>\n",
       "      <td>0</td>\n",
       "      <td>0</td>\n",
       "    </tr>\n",
       "  </tbody>\n",
       "</table>\n",
       "</div>"
      ],
      "text/plain": [
       "   0  1  2  a  4  5  6\n",
       "0  0  0  3  2  0  0  0\n",
       "1  0  4  0  0  5  0  0\n",
       "2  0  0  0  0  0  0  0"
      ]
     },
     "execution_count": 30,
     "metadata": {},
     "output_type": "execute_result"
    }
   ],
   "source": [
    "df = pd.DataFrame(a)\n",
    "df = df.rename(columns={3: 'a'})\n",
    "df"
   ]
  },
  {
   "cell_type": "code",
   "execution_count": 31,
   "id": "7264a6db",
   "metadata": {},
   "outputs": [
    {
     "name": "stdout",
     "output_type": "stream",
     "text": [
      "2\n",
      "0\n",
      "0\n"
     ]
    }
   ],
   "source": [
    "for idx, r in df.iterrows():\n",
    "    print(r.a)"
   ]
  },
  {
   "cell_type": "markdown",
   "id": "c58e4e04",
   "metadata": {},
   "source": [
    "### Classes"
   ]
  },
  {
   "cell_type": "code",
   "execution_count": 32,
   "id": "b8378d21",
   "metadata": {},
   "outputs": [],
   "source": [
    "from typing import List\n",
    "from datetime import datetime\n",
    "from typing import Optional\n",
    "\n",
    "from datetime import datetime, timedelta"
   ]
  },
  {
   "cell_type": "code",
   "execution_count": 33,
   "id": "ed08e34f",
   "metadata": {},
   "outputs": [],
   "source": [
    "class Connection(object):\n",
    "    \"\"\" A connection in the graph \"\"\"\n",
    "\n",
    "    def __init__(self, dep_stop: int, arr_stop: int, dep_time: datetime, arr_time: datetime, trip_id: str):\n",
    "        self.dep_stop = dep_stop\n",
    "        self.arr_stop = arr_stop\n",
    "        self.dep_time = dep_time\n",
    "        self.arr_time = arr_time\n",
    "        self.trip_id = trip_id\n",
    "\n",
    "\n",
    "class Footpath(object):\n",
    "    \"\"\" A footpath in the graph \"\"\"\n",
    "\n",
    "    def __init__(self, dep_stop: int, arr_stop: int, walk_time: timedelta):\n",
    "        self.dep_stop = dep_stop\n",
    "        self.arr_stop = arr_stop\n",
    "        self.walk_time = walk_time"
   ]
  },
  {
   "cell_type": "code",
   "execution_count": 34,
   "id": "bb6701d3",
   "metadata": {},
   "outputs": [],
   "source": [
    "class JourneyPointer(object):\n",
    "    \"\"\"\n",
    "    Pointers used to reconstruct the journey from the source to the sink\n",
    "\n",
    "    Attributes:\n",
    "\n",
    "    - :class:`datetime` arrival_time --> The latest time at which someone can\n",
    "        arrive at the stop to make the connection.\n",
    "    - :class:`Optional[Connection]` enter_connection --> If none, then this\n",
    "        journey is a simple walk from a node to the sink. Otherwise, this is\n",
    "        the connection from the\n",
    "    - :class:`Optional[Connection]` exit_connection --> The name of the test object\n",
    "    - :class:`Footpath` footpath --> The name of the test object\n",
    "    \"\"\"\n",
    "\n",
    "    def __init__(self,\n",
    "                 arrival_time: datetime,\n",
    "                 enter_connection: Optional[Connection],\n",
    "                 exit_connection: Optional[Connection],\n",
    "                 footpath: Optional[Footpath]):\n",
    "\n",
    "        self.arrival_time = arrival_time\n",
    "        self.enter_connection = enter_connection\n",
    "        self.exit_connection = exit_connection\n",
    "        self.footpath = footpath\n"
   ]
  },
  {
   "cell_type": "code",
   "execution_count": 35,
   "id": "76025148",
   "metadata": {},
   "outputs": [],
   "source": [
    "class SortedJourneyList(object):\n",
    "    \"\"\" list of JourneyPointer, sorted in descending order of arrival time \"\"\"\n",
    "\n",
    "    def __init__(self, data: List[JourneyPointer]):\n",
    "        self.data = data\n",
    "\n",
    "    def __len__(self):\n",
    "        return len(self.data)\n",
    "\n",
    "    def __getitem__(self, item):\n",
    "        return self.data[item]\n",
    "\n",
    "    def append(self, e: JourneyPointer):\n",
    "        for i, elem in enumerate(self.data):\n",
    "            if elem.arrival_time <= e.arrival_time:\n",
    "                self.data = self.data[:i] + [e] + self.data[i:]\n",
    "                return\n",
    "        self.data = self.data + [e]\n",
    "\n",
    "    def remove_earliest_arrival(self):\n",
    "        self.data = self.data[:-1]"
   ]
  },
  {
   "cell_type": "code",
   "execution_count": 36,
   "id": "5592a071",
   "metadata": {},
   "outputs": [],
   "source": [
    "d1 = datetime(year=2021, month=5, day=28, hour=14, minute=12)\n",
    "d2 = datetime(year=2021, month=5, day=28, hour=14, minute=14)\n",
    "d3 = datetime(year=2021, month=5, day=28, hour=14, minute=10)"
   ]
  },
  {
   "cell_type": "code",
   "execution_count": 37,
   "id": "074ea381",
   "metadata": {},
   "outputs": [],
   "source": [
    "j1 = JourneyPointer(d1, None, None, None)\n",
    "j2 = JourneyPointer(d2, None, None, None)\n",
    "j3 = JourneyPointer(d3, None, None, None)"
   ]
  },
  {
   "cell_type": "code",
   "execution_count": 38,
   "id": "67278069",
   "metadata": {},
   "outputs": [],
   "source": [
    "l = SortedJourneyList([j1])"
   ]
  },
  {
   "cell_type": "code",
   "execution_count": 40,
   "id": "44730fe1",
   "metadata": {},
   "outputs": [
    {
     "data": {
      "text/plain": [
       "datetime.datetime(2021, 5, 28, 14, 12)"
      ]
     },
     "execution_count": 40,
     "metadata": {},
     "output_type": "execute_result"
    }
   ],
   "source": [
    "l[0].arrival_time"
   ]
  },
  {
   "cell_type": "code",
   "execution_count": 41,
   "id": "1cc1d190",
   "metadata": {},
   "outputs": [
    {
     "data": {
      "text/plain": [
       "1"
      ]
     },
     "execution_count": 41,
     "metadata": {},
     "output_type": "execute_result"
    }
   ],
   "source": [
    "len(l)"
   ]
  },
  {
   "cell_type": "code",
   "execution_count": 42,
   "id": "a6af0a43",
   "metadata": {},
   "outputs": [],
   "source": [
    "l.append(j2)"
   ]
  },
  {
   "cell_type": "code",
   "execution_count": 43,
   "id": "2461c679",
   "metadata": {},
   "outputs": [
    {
     "data": {
      "text/plain": [
       "2"
      ]
     },
     "execution_count": 43,
     "metadata": {},
     "output_type": "execute_result"
    }
   ],
   "source": [
    "len(l)"
   ]
  },
  {
   "cell_type": "code",
   "execution_count": 44,
   "id": "59849d3f",
   "metadata": {},
   "outputs": [
    {
     "data": {
      "text/plain": [
       "(datetime.datetime(2021, 5, 28, 14, 14),\n",
       " datetime.datetime(2021, 5, 28, 14, 12))"
      ]
     },
     "execution_count": 44,
     "metadata": {},
     "output_type": "execute_result"
    }
   ],
   "source": [
    "l[0].arrival_time, l[1].arrival_time"
   ]
  },
  {
   "cell_type": "code",
   "execution_count": 45,
   "id": "1e0d63e4",
   "metadata": {},
   "outputs": [],
   "source": [
    "l.append(j3)"
   ]
  },
  {
   "cell_type": "code",
   "execution_count": 46,
   "id": "aa44f200",
   "metadata": {},
   "outputs": [
    {
     "data": {
      "text/plain": [
       "3"
      ]
     },
     "execution_count": 46,
     "metadata": {},
     "output_type": "execute_result"
    }
   ],
   "source": [
    "len(l)"
   ]
  },
  {
   "cell_type": "code",
   "execution_count": 47,
   "id": "3aeb9e85",
   "metadata": {},
   "outputs": [
    {
     "data": {
      "text/plain": [
       "(datetime.datetime(2021, 5, 28, 14, 14),\n",
       " datetime.datetime(2021, 5, 28, 14, 12),\n",
       " datetime.datetime(2021, 5, 28, 14, 10))"
      ]
     },
     "execution_count": 47,
     "metadata": {},
     "output_type": "execute_result"
    }
   ],
   "source": [
    "l[0].arrival_time, l[1].arrival_time, l[2].arrival_time"
   ]
  },
  {
   "cell_type": "code",
   "execution_count": 48,
   "id": "f0b660cb",
   "metadata": {},
   "outputs": [],
   "source": [
    "l.remove_earliest_arrival()"
   ]
  },
  {
   "cell_type": "code",
   "execution_count": 49,
   "id": "38438dbb",
   "metadata": {},
   "outputs": [
    {
     "data": {
      "text/plain": [
       "2"
      ]
     },
     "execution_count": 49,
     "metadata": {},
     "output_type": "execute_result"
    }
   ],
   "source": [
    "len(l)"
   ]
  },
  {
   "cell_type": "code",
   "execution_count": 51,
   "id": "c8291dab",
   "metadata": {},
   "outputs": [
    {
     "data": {
      "text/plain": [
       "(datetime.datetime(2021, 5, 28, 14, 14),\n",
       " datetime.datetime(2021, 5, 28, 14, 12))"
      ]
     },
     "execution_count": 51,
     "metadata": {},
     "output_type": "execute_result"
    }
   ],
   "source": [
    "l[0].arrival_time, l[1].arrival_time"
   ]
  },
  {
   "cell_type": "markdown",
   "id": "649fed43",
   "metadata": {},
   "source": [
    "### Example"
   ]
  },
  {
   "cell_type": "code",
   "execution_count": 52,
   "id": "bc76ccac",
   "metadata": {},
   "outputs": [
    {
     "data": {
      "text/html": [
       "<div>\n",
       "<style scoped>\n",
       "    .dataframe tbody tr th:only-of-type {\n",
       "        vertical-align: middle;\n",
       "    }\n",
       "\n",
       "    .dataframe tbody tr th {\n",
       "        vertical-align: top;\n",
       "    }\n",
       "\n",
       "    .dataframe thead th {\n",
       "        text-align: right;\n",
       "    }\n",
       "</style>\n",
       "<table border=\"1\" class=\"dataframe\">\n",
       "  <thead>\n",
       "    <tr style=\"text-align: right;\">\n",
       "      <th></th>\n",
       "      <th>dep_stop</th>\n",
       "      <th>arr_stop</th>\n",
       "      <th>dep_time</th>\n",
       "      <th>arr_time</th>\n",
       "      <th>trip</th>\n",
       "    </tr>\n",
       "  </thead>\n",
       "  <tbody>\n",
       "    <tr>\n",
       "      <th>0</th>\n",
       "      <td>1</td>\n",
       "      <td>3</td>\n",
       "      <td>15:00:00</td>\n",
       "      <td>18:00:00</td>\n",
       "      <td>||</td>\n",
       "    </tr>\n",
       "    <tr>\n",
       "      <th>1</th>\n",
       "      <td>1</td>\n",
       "      <td>2</td>\n",
       "      <td>13:00:00</td>\n",
       "      <td>15:00:00</td>\n",
       "      <td>|</td>\n",
       "    </tr>\n",
       "    <tr>\n",
       "      <th>2</th>\n",
       "      <td>0</td>\n",
       "      <td>1</td>\n",
       "      <td>10:00:00</td>\n",
       "      <td>15:00:00</td>\n",
       "      <td>||</td>\n",
       "    </tr>\n",
       "    <tr>\n",
       "      <th>3</th>\n",
       "      <td>4</td>\n",
       "      <td>1</td>\n",
       "      <td>09:00:00</td>\n",
       "      <td>13:00:00</td>\n",
       "      <td>|</td>\n",
       "    </tr>\n",
       "    <tr>\n",
       "      <th>4</th>\n",
       "      <td>6</td>\n",
       "      <td>0</td>\n",
       "      <td>08:00:00</td>\n",
       "      <td>10:00:00</td>\n",
       "      <td>||</td>\n",
       "    </tr>\n",
       "  </tbody>\n",
       "</table>\n",
       "</div>"
      ],
      "text/plain": [
       "   dep_stop  arr_stop  dep_time  arr_time trip\n",
       "0         1         3  15:00:00  18:00:00   ||\n",
       "1         1         2  13:00:00  15:00:00    |\n",
       "2         0         1  10:00:00  15:00:00   ||\n",
       "3         4         1  09:00:00  13:00:00    |\n",
       "4         6         0  08:00:00  10:00:00   ||"
      ]
     },
     "execution_count": 52,
     "metadata": {},
     "output_type": "execute_result"
    }
   ],
   "source": [
    "# (dep_stop, arr_stop, dep_time, arr_time, trip_id)\n",
    "e_c = [\n",
    "    [1, 3, time(15), time(18), '||'],\n",
    "    [1, 2, time(13), time(15), '|'],\n",
    "    [0, 1, time(10), time(15), '||'],\n",
    "    [4, 1, time(9), time(13), '|'],\n",
    "    [6, 0, time(8), time(10), '||'],\n",
    "    [5, 4, time(7), time(12), '|'],\n",
    "]\n",
    "\n",
    "df_connections = pd.DataFrame(\n",
    "    e_c, columns=['dep_stop', 'arr_stop', 'dep_time', 'arr_time', 'trip']\n",
    ")\n",
    "\n",
    "df_connections.head()"
   ]
  },
  {
   "cell_type": "code",
   "execution_count": null,
   "id": "5c4e2505",
   "metadata": {},
   "outputs": [],
   "source": []
  }
 ],
 "metadata": {
  "kernelspec": {
   "display_name": "Python 3",
   "language": "python",
   "name": "python3"
  },
  "language_info": {
   "codemirror_mode": {
    "name": "ipython",
    "version": 3
   },
   "file_extension": ".py",
   "mimetype": "text/x-python",
   "name": "python",
   "nbconvert_exporter": "python",
   "pygments_lexer": "ipython3",
   "version": "3.7.10"
  }
 },
 "nbformat": 4,
 "nbformat_minor": 5
}
